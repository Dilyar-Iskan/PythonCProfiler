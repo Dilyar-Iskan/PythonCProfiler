{
  "nbformat": 4,
  "nbformat_minor": 0,
  "metadata": {
    "colab": {
      "name": "profilers.ipynb",
      "provenance": [],
      "toc_visible": true,
      "authorship_tag": "ABX9TyOiPBUtBDl1XalwuDz3+G72",
      "include_colab_link": true
    },
    "kernelspec": {
      "name": "python3",
      "display_name": "Python 3"
    }
  },
  "cells": [
    {
      "cell_type": "markdown",
      "metadata": {
        "id": "view-in-github",
        "colab_type": "text"
      },
      "source": [
        "<a href=\"https://colab.research.google.com/github/Dilyar-Iskan/PythonCProfiler/blob/master/profilers.ipynb\" target=\"_parent\"><img src=\"https://colab.research.google.com/assets/colab-badge.svg\" alt=\"Open In Colab\"/></a>"
      ]
    },
    {
      "cell_type": "code",
      "metadata": {
        "id": "T8TiNQz7SYVI",
        "colab_type": "code",
        "colab": {}
      },
      "source": [
        "import pstats\n",
        "import cProfile\n",
        "import profile\n",
        "import re\n"
      ],
      "execution_count": 0,
      "outputs": []
    },
    {
      "cell_type": "markdown",
      "metadata": {
        "id": "SpP-_0wlSfK1",
        "colab_type": "text"
      },
      "source": [
        "### Profilers\n",
        "\n",
        "Types of Profilers\n",
        "\n"
      ]
    },
    {
      "cell_type": "markdown",
      "metadata": {
        "id": "Zo7_C-q7zPEI",
        "colab_type": "text"
      },
      "source": [
        "profiler either from interpreter or from the code"
      ]
    },
    {
      "cell_type": "code",
      "metadata": {
        "id": "GEahOlYOglYQ",
        "colab_type": "code",
        "colab": {}
      },
      "source": [
        "cProfile.run(\n",
        "'re.compile(\"foo|bar\")'\n",
        ")"
      ],
      "execution_count": 0,
      "outputs": []
    },
    {
      "cell_type": "markdown",
      "metadata": {
        "id": "DljXaaVcozEt",
        "colab_type": "text"
      },
      "source": [
        "Primitive call is a call that is not induced via recursion."
      ]
    },
    {
      "cell_type": "markdown",
      "metadata": {
        "id": "h9M0kuMepKJV",
        "colab_type": "text"
      },
      "source": [
        "\n",
        "The columns\n",
        "\n",
        "\n",
        "*   filename:lineno(function)\n",
        "*  ncalls\n",
        "\n",
        "total number of calls / the number of primitive calls\n",
        "\n",
        "*  percall\n",
        "\n",
        "\n",
        "*  tottime:\n",
        "\n",
        "  The total time spent in a function excluded the time made in subfunction.\n",
        "\n",
        "*  cumtime:\n",
        "\n",
        "The cumulative time spent in a function and its subfunctions.\n",
        "\n",
        "\n",
        "\n",
        "\n"
      ]
    },
    {
      "cell_type": "code",
      "metadata": {
        "id": "ZnFrmzcchW1X",
        "colab_type": "code",
        "colab": {}
      },
      "source": [
        "cProfile.run('re.compile(\"foo|bar\")', 'restats')"
      ],
      "execution_count": 0,
      "outputs": []
    },
    {
      "cell_type": "code",
      "metadata": {
        "id": "MfTWsCp6uCvy",
        "colab_type": "code",
        "colab": {
          "base_uri": "https://localhost:8080/",
          "height": 292
        },
        "outputId": "0bf99971-0bd8-4c8b-e469-5e8da8a0c53b"
      },
      "source": [
        "\n",
        "p= pstats.Stats('restats')\n",
        "p.strip_dirs().sort_stats(-1).print_stats()"
      ],
      "execution_count": 17,
      "outputs": [
        {
          "output_type": "stream",
          "text": [
            "Tue Jun  2 01:49:24 2020    restats\n",
            "\n",
            "         5 function calls in 0.000 seconds\n",
            "\n",
            "   Ordered by: standard name\n",
            "\n",
            "   ncalls  tottime  percall  cumtime  percall filename:lineno(function)\n",
            "        1    0.000    0.000    0.000    0.000 <string>:1(<module>)\n",
            "        1    0.000    0.000    0.000    0.000 re.py:231(compile)\n",
            "        1    0.000    0.000    0.000    0.000 re.py:286(_compile)\n",
            "        1    0.000    0.000    0.000    0.000 {built-in method builtins.exec}\n",
            "        1    0.000    0.000    0.000    0.000 {method 'disable' of '_lsprof.Profiler' objects}\n",
            "\n",
            "\n"
          ],
          "name": "stdout"
        },
        {
          "output_type": "execute_result",
          "data": {
            "text/plain": [
              "<pstats.Stats at 0x7f8633b516d8>"
            ]
          },
          "metadata": {
            "tags": []
          },
          "execution_count": 17
        }
      ]
    },
    {
      "cell_type": "code",
      "metadata": {
        "id": "I_SckO3GuTH6",
        "colab_type": "code",
        "colab": {
          "base_uri": "https://localhost:8080/",
          "height": 34
        },
        "outputId": "930874a3-0f45-42b6-cd8e-ff83accc222a"
      },
      "source": [
        "!pyprof2calltree -k -i restats"
      ],
      "execution_count": 20,
      "outputs": [
        {
          "output_type": "stream",
          "text": [
            "/bin/bash: pyprof2calltree: command not found\n"
          ],
          "name": "stdout"
        }
      ]
    },
    {
      "cell_type": "markdown",
      "metadata": {
        "id": "UtQF7jSfw-9s",
        "colab_type": "text"
      },
      "source": [
        "Note that profiling will only work if the called command/function actually returns. If the interpreter is terminated (e.g. via a sys.exit() call during the called command/function execution) no profiling results will be printed."
      ]
    }
  ]
}